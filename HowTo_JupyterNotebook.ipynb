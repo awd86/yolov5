{
 "cells": [
  {
   "cell_type": "markdown",
   "metadata": {},
   "source": [
    "# YOLOv5 on the Udacity Dataset\n",
    "\n",
    "18 Nov 2021, Alex Denton, AE4824"
   ]
  },
  {
   "cell_type": "markdown",
   "metadata": {},
   "source": [
    "## Before You Start \n",
    "Tutorial: https://blog.roboflow.com/how-to-train-yolov5-on-a-custom-dataset/\n",
    "\n",
    "Also, notes on scripts and syntax:\n",
    "\n",
    "- I did <i>not</i> use Jupyter Notebook for this task. I used PyCharm IDE to write my Python code and exectuted <i>train.py</i> from terminal. \n",
    "\n",
    "- \"!\" means that Jupyter (or a .py file) will run that command in a new terminal instance. The terminal instance will be within your virtual environment, but each new \"!\" is a new terminal. If you need to run multiple commands in one instance, put them on 1 line with \";\" separators.\n",
    "\n",
    "- \"python\" vs. \"python3\" depends on your machine's aliasing. If you want to alias \"python\" to run \"python3\" instead of your machine's default python release, you can look up how to edit your profile. <i>Do this at your own risk!</i> I have set mine up this way and tend to write \"python\"...you can safely replace that with \"python3\" if you're having issues. \n",
    "\n",
    "### (needed before making venv and launching jupyter notebook)\n",
    "\n",
    "Clone YOLOv5 GitHub repo and install requirements.txt in a Python>=3.6.0 environment, including PyTorch>=1.7. Models and datasets download automatically from the latest YOLOv5 release. I'm sucessfully using 3.8 and 3.9 on different machines."
   ]
  },
  {
   "cell_type": "raw",
   "metadata": {},
   "source": [
    "git clone https://github.com/ultralytics/yolov5\n",
    "cd yolov5\n",
    "pip install -r requirements.txt<br>"
   ]
  },
  {
   "cell_type": "markdown",
   "metadata": {},
   "source": [
    "NOTE: PyTorch>=1.9 with new torch.distributed.run is recommended (replaces older torch.distributed.launch commands below). See https://pytorch.org/docs/stable/distributed.html for details."
   ]
  },
  {
   "cell_type": "markdown",
   "metadata": {},
   "source": [
    "## Check the local Cuda version"
   ]
  },
  {
   "cell_type": "code",
   "execution_count": 1,
   "metadata": {},
   "outputs": [
    {
     "name": "stdout",
     "output_type": "stream",
     "text": [
      "nvcc: NVIDIA (R) Cuda compiler driver\n",
      "Copyright (c) 2005-2018 NVIDIA Corporation\n",
      "Built on Sat_Aug_25_21:08:01_CDT_2018\n",
      "Cuda compilation tools, release 10.0, V10.0.130\n"
     ]
    }
   ],
   "source": [
    "!nvcc --version"
   ]
  },
  {
   "cell_type": "markdown",
   "metadata": {},
   "source": [
    "## Check PyTorch version & GPU Compatability\n",
    "- torch >= 1.9\n",
    "- CudaDeviceProperties should have something under 'name' - this means it is compatible"
   ]
  },
  {
   "cell_type": "code",
   "execution_count": 1,
   "metadata": {},
   "outputs": [
    {
     "name": "stdout",
     "output_type": "stream",
     "text": [
      "torch 1.10.1+cu102 _CudaDeviceProperties(name='Tesla V100-DGXS-32GB', major=7, minor=0, total_memory=32485MB, multi_processor_count=80)\n"
     ]
    }
   ],
   "source": [
    "import torch\n",
    "print('torch %s %s' % (torch.__version__, torch.cuda.get_device_properties(0) if torch.cuda.is_available() else 'CPU'))\n"
   ]
  },
  {
   "cell_type": "markdown",
   "metadata": {},
   "source": [
    "## Configure Multi-GPU DistributedDataParallel Mode\n",
    "https://github.com/ultralytics/yolov5/issues/475"
   ]
  },
  {
   "cell_type": "markdown",
   "metadata": {},
   "source": [
    "Before specifying GPUs, <a href=\"https://hsf-training.github.io/hsf-training-ml-gpu-webpage/02-whichgpu/index.html\">determine the parameters</a>:\n",
    "\n",
    "\n"
   ]
  },
  {
   "cell_type": "code",
   "execution_count": 2,
   "metadata": {},
   "outputs": [
    {
     "name": "stdout",
     "output_type": "stream",
     "text": [
      "__CUDNN VERSION: 7605\n",
      "__Number CUDA Devices: 4\n",
      "__CUDA Device Name: Tesla V100-DGXS-32GB\n",
      "__CUDA Device Total Memory [GB]: 34.063712256\n"
     ]
    }
   ],
   "source": [
    "import torch\n",
    "use_cuda = torch.cuda.is_available()\n",
    "\n",
    "if use_cuda:\n",
    "    print('__CUDNN VERSION:', torch.backends.cudnn.version())\n",
    "    print('__Number CUDA Devices:', torch.cuda.device_count())\n",
    "    print('__CUDA Device Name:',torch.cuda.get_device_name(0))\n",
    "    print('__CUDA Device Total Memory [GB]:',torch.cuda.get_device_properties(0).total_memory/1e9)"
   ]
  },
  {
   "cell_type": "markdown",
   "metadata": {},
   "source": [
    "Note: DGX1 and DGX4 both report \"Number of CUDA Devices: 5\" but the correct number to specify is \"4\"\n",
    "<br>There are only 4 GPUs. This script might be counting the CPU as an additional CUDA device,<i> but train.py won't run</i> if you say \"5\"\n",
    "\n",
    "You will have to pass python the following along with the usual arguments:"
   ]
  },
  {
   "cell_type": "raw",
   "metadata": {},
   "source": [
    "!python -m torch.distributed.launch --nproc_per_node 4"
   ]
  },
  {
   "cell_type": "markdown",
   "metadata": {},
   "source": [
    "like this:"
   ]
  },
  {
   "cell_type": "raw",
   "metadata": {},
   "source": [
    "!python3 -m torch.distributed.run --nproc_per_node 4 train.py --img 512 --batch 64 --epochs 200 --data ./data_xView/xView.yaml --cfg ./models/xView_yolov5x.yaml --weights '' --name xView_coupons_yolov5x_results  --cache"
   ]
  },
  {
   "cell_type": "markdown",
   "metadata": {},
   "source": [
    "<i>--nproc_per_node</i> specifies how many GPUs you would like to use. In the example above, it is 4.<br>\n",
    "\n",
    "<i>--batch</i> is the total batch-size. It will be divided evenly to each GPU. In the example above, it is 64/4=16 per GPU.<br>\n",
    "\n",
    "The code above will use GPUs 0... (N-1).\n",
    "\n",
    "Notes<br>\n",
    "- Windows support is untested, Linux is recommended.\n",
    "- '--batch' must be a multiple of the number of GPUs.\n",
    "- GPU 0 will take slightly more memory than the other GPUs as it maintains EMA and is responsible for checkpointing etc.\n",
    "\n",
    "If you get RuntimeError: Address already in use, it could be because you are running multiple trainings at a time. To fix this, simply use a different port number by adding --master_port like below,"
   ]
  },
  {
   "cell_type": "raw",
   "metadata": {},
   "source": [
    "$ python -m torch.distributed.launch --master_port 1234 --nproc_per_node 2 ..."
   ]
  },
  {
   "cell_type": "markdown",
   "metadata": {},
   "source": [
    "## Download the Udacity Self Driving Car Dataset in Yolov5 Pytorch Format:\n",
    "\n",
    "https://public.roboflow.com/ds/h0zYn5zFuK?key=tRsZIfO1Cg"
   ]
  },
  {
   "cell_type": "code",
   "execution_count": null,
   "metadata": {},
   "outputs": [],
   "source": [
    "!curl -L \"https://public.roboflow.com/ds/h0zYn5zFuK?key=tRsZIfO1Cg\" > roboflow.zip; unzip roboflow.zip; rm roboflow.zip"
   ]
  },
  {
   "cell_type": "markdown",
   "metadata": {},
   "source": [
    "NOTE: The folder architecture is very important!!<br>\n",
    "\n",
    "top level<br>\n",
    "|<br>\n",
    "|_ yolov5 (contains all py code and this file)<br>\n",
    "|&emsp;|_ venv()<br>\n",
    "|&emsp;|_ data.yaml * otherwise specify location<br>\n",
    "|<br>\n",
    "|_ train<br>\n",
    "|&emsp;   |_ images()<br>\n",
    "|&emsp;   |_ labels()<br>\n",
    "|<br>\n",
    "|_ test<br>\n",
    "|&emsp;   |_ images()<br>\n",
    "|&emsp;   |_ labels()<br>\n",
    "|<br>\n",
    "|_ valid<br>\n",
    " &emsp;   |_ images()<br>\n",
    " &emsp;   |_ labels()<br>\n",
    "\n"
   ]
  },
  {
   "cell_type": "markdown",
   "metadata": {},
   "source": [
    "Alternatively, make sure that the 'data.yaml' point to the correct directories. For instance:\n",
    "\n",
    "train: ./data_car/train/images <br>\n",
    "val: ./data_car/valid/images <br>"
   ]
  },
  {
   "cell_type": "markdown",
   "metadata": {},
   "source": [
    "Also make sure that the '[your name]_yolov5x.yaml' has: <br>\n",
    "\n",
    "nc:[your number of categories] <br>\n"
   ]
  },
  {
   "cell_type": "markdown",
   "metadata": {},
   "source": [
    "<hr border-top: 24px solid #bbb; border-radius: 10px>"
   ]
  },
  {
   "cell_type": "markdown",
   "metadata": {},
   "source": [
    "#  * * * Execution * * *"
   ]
  },
  {
   "cell_type": "markdown",
   "metadata": {},
   "source": [
    "## Define model configuration and architecture (needed in runtime):"
   ]
  },
  {
   "cell_type": "markdown",
   "metadata": {},
   "source": [
    "## Define number of classes based on YAML"
   ]
  },
  {
   "cell_type": "code",
   "execution_count": null,
   "metadata": {},
   "outputs": [],
   "source": [
    "import yaml\n",
    "with open(yolov5.data_car + \"/data.yaml\", 'r') as stream:\n",
    "    num_classes = str(yaml.safe_load(stream)['nc'])"
   ]
  },
  {
   "cell_type": "markdown",
   "metadata": {},
   "source": [
    "## Customize iPython writefile so we can write variables\n"
   ]
  },
  {
   "cell_type": "code",
   "execution_count": null,
   "metadata": {},
   "outputs": [],
   "source": [
    "# customize iPython writefile so we can write variables\n",
    "from IPython.core.magic import register_line_cell_magic\n",
    "\n",
    "\n",
    "@register_line_cell_magic\n",
    "def writetemplate(line, cell):\n",
    "    with open(line, 'w') as f:\n",
    "        f.write(cell.format(**globals()))"
   ]
  },
  {
   "cell_type": "markdown",
   "metadata": {},
   "source": [
    "## Execute Training on RBC Dataset (worked 15 Nov)\n",
    "\n",
    "Train Custom YOLOv5 Detector - Next, we'll fire off training!\n",
    "Here, we are able to pass a number of arguments:<br>\n",
    "\n",
    "img: define input image size<br>\n",
    "batch: determine batch size<br>\n",
    "epochs: define the number of training epochs. (Note: often, 3000+ are common here!)<br>\n",
    "data: set the path to our yaml file<br>\n",
    "cfg: specify our model configuration<br>\n",
    "weights: specify a custom path to weights. (Note: you can download weights from the Ultralytics Google Drive folder)<br>\n",
    "name: result names<br>\n",
    "nosave: only save the final checkpoint<br>\n",
    "cache: cache images for faster training<br>"
   ]
  },
  {
   "cell_type": "raw",
   "metadata": {},
   "source": [
    "# example code to copy/paste\n",
    "\n",
    "!python train.py --img 416 --rect --batch 16 --epochs 100 --data ./data_rbc/data.yaml --cfg ./models/customRBC_yolov5x.yaml --weights yolov5x.pt  --cache\n"
   ]
  },
  {
   "cell_type": "markdown",
   "metadata": {},
   "source": [
    "## RBC code:"
   ]
  },
  {
   "cell_type": "code",
   "execution_count": 2,
   "metadata": {},
   "outputs": [
    {
     "name": "stdout",
     "output_type": "stream",
     "text": [
      "/usr/lib/python3/dist-packages/traitlets/config/loader.py:795: SyntaxWarning: \"is\" with a literal. Did you mean \"==\"?\n",
      "  if len(key) is 1:\n",
      "/usr/lib/python3/dist-packages/traitlets/config/loader.py:804: SyntaxWarning: \"is\" with a literal. Did you mean \"==\"?\n",
      "  if len(key) is 1:\n",
      "Traceback (most recent call last):\n",
      "  File \"train.py\", line 34, in <module>\n",
      "    import val  # for end-of-epoch mAP\n",
      "  File \"/home/st1/PycharmProjects/yolov5/val.py\", line 26, in <module>\n",
      "    from models.common import DetectMultiBackend\n",
      "  File \"/home/st1/PycharmProjects/yolov5/models/common.py\", line 22, in <module>\n",
      "    from utils.datasets import exif_transpose, letterbox\n",
      "  File \"/home/st1/PycharmProjects/yolov5/utils/datasets.py\", line 28, in <module>\n",
      "    from utils.augmentations import Albumentations, augment_hsv, copy_paste, letterbox, mixup, random_perspective\n",
      "  File \"/home/st1/PycharmProjects/yolov5/utils/augmentations.py\", line 12, in <module>\n",
      "    from utils.general import LOGGER, check_version, colorstr, resample_segments, segment2box\n",
      "  File \"/home/st1/PycharmProjects/yolov5/utils/general.py\", line 33, in <module>\n",
      "    from utils.metrics import box_iou, fitness\n",
      "  File \"/home/st1/PycharmProjects/yolov5/utils/metrics.py\", line 10, in <module>\n",
      "    import matplotlib.pyplot as plt\n",
      "  File \"/home/st1/PycharmProjects/yolov5/venv_Yv/lib/python3.8/site-packages/matplotlib/pyplot.py\", line 2500, in <module>\n",
      "    switch_backend(rcParams[\"backend\"])\n",
      "  File \"/home/st1/PycharmProjects/yolov5/venv_Yv/lib/python3.8/site-packages/matplotlib/pyplot.py\", line 277, in switch_backend\n",
      "    class backend_mod(matplotlib.backend_bases._Backend):\n",
      "  File \"/home/st1/PycharmProjects/yolov5/venv_Yv/lib/python3.8/site-packages/matplotlib/pyplot.py\", line 278, in backend_mod\n",
      "    locals().update(vars(importlib.import_module(backend_name)))\n",
      "  File \"/usr/lib/python3.8/importlib/__init__.py\", line 127, in import_module\n",
      "    return _bootstrap._gcd_import(name[level:], package, level)\n",
      "  File \"/usr/lib/python3/dist-packages/ipykernel/__init__.py\", line 2, in <module>\n",
      "    from .connect import *\n",
      "  File \"/usr/lib/python3/dist-packages/ipykernel/connect.py\", line 18, in <module>\n",
      "    import jupyter_client\n",
      "  File \"/usr/lib/python3/dist-packages/jupyter_client/__init__.py\", line 4, in <module>\n",
      "    from .connect import *\n",
      "  File \"/usr/lib/python3/dist-packages/jupyter_client/connect.py\", line 23, in <module>\n",
      "    import zmq\n",
      "  File \"/usr/lib/python3/dist-packages/zmq/__init__.py\", line 34, in <module>\n",
      "    from zmq import backend\n",
      "  File \"/usr/lib/python3/dist-packages/zmq/backend/__init__.py\", line 40, in <module>\n",
      "    reraise(*exc_info)\n",
      "  File \"/usr/lib/python3/dist-packages/zmq/utils/sixcerpt.py\", line 34, in reraise\n",
      "    raise value\n",
      "  File \"/usr/lib/python3/dist-packages/zmq/backend/__init__.py\", line 27, in <module>\n",
      "    _ns = select_backend(first)\n",
      "  File \"/usr/lib/python3/dist-packages/zmq/backend/select.py\", line 26, in select_backend\n",
      "    mod = __import__(name, fromlist=public_api)\n",
      "  File \"/usr/lib/python3/dist-packages/zmq/backend/cython/__init__.py\", line 6, in <module>\n",
      "    from . import (constants, error, message, context,\n",
      "ImportError: cannot import name 'constants' from partially initialized module 'zmq.backend.cython' (most likely due to a circular import) (/usr/lib/python3/dist-packages/zmq/backend/cython/__init__.py)\n"
     ]
    }
   ],
   "source": [
    "!python train.py --img 416 --rect --batch 16 --epochs 100 --data ./data_rbc/data.yaml --cfg ./models/customRBC_yolov5x.yaml --weights yolov5x.pt  --cache\n"
   ]
  },
  {
   "cell_type": "markdown",
   "metadata": {},
   "source": [
    "## Car Dataset Code"
   ]
  },
  {
   "cell_type": "markdown",
   "metadata": {},
   "source": [
    "FAILED --batch 16  memory overflowed \"There appear to be 6 leaked semaphore objects\" (in PyCharm)\n",
    "\n",
    "FAILED could not run in Jupyter Notebook - transfered verbatim to PyCharm where it worked\n",
    "\n",
    "FAILED --batch 8 overflowed memory in the same way as before (PyCharm)\n",
    "\n",
    "FAILED tried running --batch 8, yolov5l.yaml (instead of yolov5x.yaml)\n",
    "\n",
    "FAILED tried adding multiple GPUs"
   ]
  },
  {
   "cell_type": "code",
   "execution_count": 11,
   "metadata": {},
   "outputs": [
    {
     "name": "stdout",
     "output_type": "stream",
     "text": [
      "/usr/lib/python3/dist-packages/traitlets/config/loader.py:795: SyntaxWarning: \"is\" with a literal. Did you mean \"==\"?\n",
      "  if len(key) is 1:\n",
      "/usr/lib/python3/dist-packages/traitlets/config/loader.py:804: SyntaxWarning: \"is\" with a literal. Did you mean \"==\"?\n",
      "  if len(key) is 1:\n",
      "Traceback (most recent call last):\n",
      "  File \"train.py\", line 34, in <module>\n",
      "    import val  # for end-of-epoch mAP\n",
      "  File \"/home/st1/PycharmProjects/yolov5/val.py\", line 26, in <module>\n",
      "    from models.common import DetectMultiBackend\n",
      "  File \"/home/st1/PycharmProjects/yolov5/models/common.py\", line 22, in <module>\n",
      "    from utils.datasets import exif_transpose, letterbox\n",
      "  File \"/home/st1/PycharmProjects/yolov5/utils/datasets.py\", line 28, in <module>\n",
      "    from utils.augmentations import Albumentations, augment_hsv, copy_paste, letterbox, mixup, random_perspective\n",
      "  File \"/home/st1/PycharmProjects/yolov5/utils/augmentations.py\", line 12, in <module>\n",
      "    from utils.general import LOGGER, check_version, colorstr, resample_segments, segment2box\n",
      "  File \"/home/st1/PycharmProjects/yolov5/utils/general.py\", line 33, in <module>\n",
      "    from utils.metrics import box_iou, fitness\n",
      "  File \"/home/st1/PycharmProjects/yolov5/utils/metrics.py\", line 10, in <module>\n",
      "    import matplotlib.pyplot as plt\n",
      "  File \"/home/st1/PycharmProjects/yolov5/venv_Yv/lib/python3.8/site-packages/matplotlib/pyplot.py\", line 2500, in <module>\n",
      "    switch_backend(rcParams[\"backend\"])\n",
      "  File \"/home/st1/PycharmProjects/yolov5/venv_Yv/lib/python3.8/site-packages/matplotlib/pyplot.py\", line 277, in switch_backend\n",
      "    class backend_mod(matplotlib.backend_bases._Backend):\n",
      "  File \"/home/st1/PycharmProjects/yolov5/venv_Yv/lib/python3.8/site-packages/matplotlib/pyplot.py\", line 278, in backend_mod\n",
      "    locals().update(vars(importlib.import_module(backend_name)))\n",
      "  File \"/usr/lib/python3.8/importlib/__init__.py\", line 127, in import_module\n",
      "    return _bootstrap._gcd_import(name[level:], package, level)\n",
      "  File \"/usr/lib/python3/dist-packages/ipykernel/__init__.py\", line 2, in <module>\n",
      "    from .connect import *\n",
      "  File \"/usr/lib/python3/dist-packages/ipykernel/connect.py\", line 18, in <module>\n",
      "    import jupyter_client\n",
      "  File \"/usr/lib/python3/dist-packages/jupyter_client/__init__.py\", line 4, in <module>\n",
      "    from .connect import *\n",
      "  File \"/usr/lib/python3/dist-packages/jupyter_client/connect.py\", line 23, in <module>\n",
      "    import zmq\n",
      "  File \"/usr/lib/python3/dist-packages/zmq/__init__.py\", line 34, in <module>\n",
      "    from zmq import backend\n",
      "  File \"/usr/lib/python3/dist-packages/zmq/backend/__init__.py\", line 40, in <module>\n",
      "    reraise(*exc_info)\n",
      "  File \"/usr/lib/python3/dist-packages/zmq/utils/sixcerpt.py\", line 34, in reraise\n",
      "    raise value\n",
      "  File \"/usr/lib/python3/dist-packages/zmq/backend/__init__.py\", line 27, in <module>\n",
      "    _ns = select_backend(first)\n",
      "  File \"/usr/lib/python3/dist-packages/zmq/backend/select.py\", line 26, in select_backend\n",
      "    mod = __import__(name, fromlist=public_api)\n",
      "  File \"/usr/lib/python3/dist-packages/zmq/backend/cython/__init__.py\", line 6, in <module>\n",
      "    from . import (constants, error, message, context,\n",
      "ImportError: cannot import name 'constants' from partially initialized module 'zmq.backend.cython' (most likely due to a circular import) (/usr/lib/python3/dist-packages/zmq/backend/cython/__init__.py)\n"
     ]
    }
   ],
   "source": [
    "!python train.py --img 1920 --rect --batch 8 --epochs 10 --data ./data_car/data.yaml --cfg ./models/customCAR_yolov5l.yaml --weights yolov5l.pt  --cache\n"
   ]
  },
  {
   "cell_type": "code",
   "execution_count": null,
   "metadata": {},
   "outputs": [],
   "source": []
  }
 ],
 "metadata": {
  "kernelspec": {
   "display_name": "Python 3",
   "language": "python",
   "name": "python3"
  },
  "language_info": {
   "codemirror_mode": {
    "name": "ipython",
    "version": 3
   },
   "file_extension": ".py",
   "mimetype": "text/x-python",
   "name": "python",
   "nbconvert_exporter": "python",
   "pygments_lexer": "ipython3",
   "version": "3.6.9"
  }
 },
 "nbformat": 4,
 "nbformat_minor": 4
}
